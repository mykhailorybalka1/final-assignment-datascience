{
  "metadata": {
    "kernelspec": {
      "name": "python",
      "display_name": "Python (Pyodide)",
      "language": "python"
    },
    "language_info": {
      "codemirror_mode": {
        "name": "python",
        "version": 3
      },
      "file_extension": ".py",
      "mimetype": "text/x-python",
      "name": "python",
      "nbconvert_exporter": "python",
      "pygments_lexer": "ipython3",
      "version": "3.8"
    }
  },
  "nbformat_minor": 5,
  "nbformat": 4,
  "cells": [
    {
      "id": "c63ac1b1-dfde-47ed-bf7e-b59f98ae4640",
      "cell_type": "markdown",
      "source": "#Data Science Tools and Ecosystem",
      "metadata": {}
    },
    {
      "id": "795d43d8-92ce-46cb-88b2-d6e43b5b6da7",
      "cell_type": "markdown",
      "source": "#In this notebook, Data Science Tools and Ecosystem are summarized.",
      "metadata": {}
    },
    {
      "id": "9ba0c375-6fa2-4b27-833c-c2e7755be5b1",
      "cell_type": "markdown",
      "source": "#Some of the popular languages that Data Scientists use are:\n\n1. Python  \n2. R  \n3. SQL  \n4. Julia  \n",
      "metadata": {}
    },
    {
      "id": "6527f910-71d8-4e62-a9aa-1c0a165708f7",
      "cell_type": "markdown",
      "source": "#Some of the commonly used libraries used by Data Scientists include:\n\n1. Pandas  \n2. NumPy  \n3. Scikit-learn  \n4. Matplotlib  ",
      "metadata": {}
    },
    {
      "id": "6a95b5be-e812-491a-bde4-fe6904f0baff",
      "cell_type": "markdown",
      "source": "#| Data Science Tools    |\n|------------------------|\n| Jupyter Notebook       |\n| RStudio                |\n| VS Code                |",
      "metadata": {}
    },
    {
      "id": "f80f0d35-2826-4c1e-bb1c-73b5e997f8a6",
      "cell_type": "markdown",
      "source": "#### Below are a few examples of evaluating arithmetic expressions in Python.",
      "metadata": {}
    },
    {
      "id": "b51a18fe-2618-40fd-9bb3-4bbbbaa1f340",
      "cell_type": "code",
      "source": "# This a simple arithmetic expression to multiply then add integers\n(3*4)+5",
      "metadata": {
        "trusted": true
      },
      "outputs": [
        {
          "execution_count": 1,
          "output_type": "execute_result",
          "data": {
            "text/plain": "17"
          },
          "metadata": {}
        }
      ],
      "execution_count": 1
    },
    {
      "id": "c8a1f877-760f-44a5-bcbe-dcd3685ab837",
      "cell_type": "code",
      "source": "#This will convert 200 minutes to hours by diving by 60\n200/60",
      "metadata": {
        "trusted": true
      },
      "outputs": [
        {
          "execution_count": 2,
          "output_type": "execute_result",
          "data": {
            "text/plain": "3.3333333333333335"
          },
          "metadata": {}
        }
      ],
      "execution_count": 2
    },
    {
      "id": "bc308a01-8763-4fa9-9035-32321add1e2a",
      "cell_type": "markdown",
      "source": "**Objectives:**\n- List popular languages for Data Science  \n- List commonly used libraries for Data Science  \n- Create tables and lists in markdown  \n- Evaluate arithmetic expressions in Python  \n- Convert minutes to hours using Python code ",
      "metadata": {}
    },
    {
      "id": "b825a3e0-0d1d-4e9c-bf55-1001ba991e7b",
      "cell_type": "markdown",
      "source": "### Author\nMykhailo Rybalka",
      "metadata": {}
    },
    {
      "id": "213a8aae-d1cb-4aa0-8360-7fd2cf5cb703",
      "cell_type": "code",
      "source": "",
      "metadata": {
        "trusted": true
      },
      "outputs": [],
      "execution_count": null
    }
  ]
}